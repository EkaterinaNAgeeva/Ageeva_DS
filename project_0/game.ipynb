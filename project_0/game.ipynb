{
 "cells": [
  {
   "cell_type": "code",
   "execution_count": 13,
   "metadata": {},
   "outputs": [],
   "source": [
    "import game_v2"
   ]
  },
  {
   "cell_type": "code",
   "execution_count": 18,
   "metadata": {},
   "outputs": [
    {
     "ename": "AttributeError",
     "evalue": "module 'game_v2' has no attribute 'score_game'",
     "output_type": "error",
     "traceback": [
      "\u001b[1;31m---------------------------------------------------------------------------\u001b[0m",
      "\u001b[1;31mAttributeError\u001b[0m                            Traceback (most recent call last)",
      "\u001b[1;32md:\\python\\IDE\\game.ipynb Ячейка 2\u001b[0m line \u001b[0;36m1\n\u001b[1;32m----> <a href='vscode-notebook-cell:/d%3A/python/IDE/game.ipynb#W1sZmlsZQ%3D%3D?line=0'>1</a>\u001b[0m game_v2\u001b[39m.\u001b[39;49mscore_game(game_v2\u001b[39m.\u001b[39mrandom_predict)\n",
      "\u001b[1;31mAttributeError\u001b[0m: module 'game_v2' has no attribute 'score_game'"
     ]
    }
   ],
   "source": [
    "game_v2.score_game(game_v2.random_predict)"
   ]
  },
  {
   "cell_type": "code",
   "execution_count": null,
   "metadata": {},
   "outputs": [
    {
     "ename": "ImportError",
     "evalue": "cannot import name 'score_game' from 'game_v2' (d:\\python\\IDE\\game_v2.py)",
     "output_type": "error",
     "traceback": [
      "\u001b[1;31m---------------------------------------------------------------------------\u001b[0m",
      "\u001b[1;31mImportError\u001b[0m                               Traceback (most recent call last)",
      "\u001b[1;32md:\\python\\IDE\\game.ipynb Ячейка 3\u001b[0m line \u001b[0;36m1\n\u001b[1;32m----> <a href='vscode-notebook-cell:/d%3A/python/IDE/game.ipynb#W3sZmlsZQ%3D%3D?line=0'>1</a>\u001b[0m \u001b[39mfrom\u001b[39;00m \u001b[39mgame_v2\u001b[39;00m \u001b[39mimport\u001b[39;00m score_game\n\u001b[0;32m      <a href='vscode-notebook-cell:/d%3A/python/IDE/game.ipynb#W3sZmlsZQ%3D%3D?line=1'>2</a>\u001b[0m \u001b[39mfrom\u001b[39;00m \u001b[39mgame_v2\u001b[39;00m \u001b[39mimport\u001b[39;00m random_predict\n\u001b[0;32m      <a href='vscode-notebook-cell:/d%3A/python/IDE/game.ipynb#W3sZmlsZQ%3D%3D?line=2'>3</a>\u001b[0m score_game(random_predict) \u001b[39m#вызов функции\u001b[39;00m\n",
      "\u001b[1;31mImportError\u001b[0m: cannot import name 'score_game' from 'game_v2' (d:\\python\\IDE\\game_v2.py)"
     ]
    }
   ],
   "source": [
    "from game_v2 import score_game\n",
    "from game_v2 import random_predict\n",
    "score_game(random_predict) #вызов функции"
   ]
  }
 ],
 "metadata": {
  "kernelspec": {
   "display_name": "Python 3",
   "language": "python",
   "name": "python3"
  },
  "language_info": {
   "codemirror_mode": {
    "name": "ipython",
    "version": 3
   },
   "file_extension": ".py",
   "mimetype": "text/x-python",
   "name": "python",
   "nbconvert_exporter": "python",
   "pygments_lexer": "ipython3",
   "version": "3.9.10"
  }
 },
 "nbformat": 4,
 "nbformat_minor": 2
}
